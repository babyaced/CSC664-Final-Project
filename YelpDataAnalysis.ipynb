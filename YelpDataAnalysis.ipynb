{
  "nbformat": 4,
  "nbformat_minor": 0,
  "metadata": {
    "colab": {
      "name": "YelpDataAnalysis.ipynb",
      "provenance": [],
      "collapsed_sections": [
        "Ho-BiRaJnPXt",
        "4t_LEQYIkWEw",
        "FszaRbUgwN1p",
        "MMWP6VV59xih"
      ],
      "toc_visible": true
    },
    "kernelspec": {
      "display_name": "Python 3",
      "name": "python3"
    }
  },
  "cells": [
    {
      "cell_type": "markdown",
      "metadata": {
        "id": "Ho-BiRaJnPXt"
      },
      "source": [
        "#Imports\n"
      ]
    },
    {
      "cell_type": "code",
      "metadata": {
        "id": "l6O1NgpNcCh6",
        "colab": {
          "base_uri": "https://localhost:8080/"
        },
        "outputId": "b83ce75e-0e98-4a63-8e8d-6b78b989f770"
      },
      "source": [
        "import pandas as pd\n",
        "import numpy as np\n",
        "import matplotlib.pyplot as plt\n",
        "import seaborn as sns\n",
        "\n",
        "import string # Imports the library\n",
        "import re\n",
        "\n",
        "\n",
        "\n",
        "\n",
        "import nltk  #imports the natural language toolkit\n",
        "from nltk.corpus import stopwords #stopwords\n",
        "from sklearn import datasets\n",
        "\n",
        "#Vectorizers\n",
        "from sklearn.feature_extraction.text import CountVectorizer\n",
        "from sklearn.feature_extraction.text import TfidfVectorizer\n",
        "\n",
        "#OverSamplers\n",
        "from imblearn.over_sampling import RandomOverSampler\n",
        "from imblearn.over_sampling import SMOTE\n",
        "\n",
        "#UnderSampler\n",
        "from imblearn.under_sampling import RandomUnderSampler\n",
        "from imblearn.under_sampling import EditedNearestNeighbours\n",
        "from imblearn.under_sampling import TomekLinks\n",
        "from imblearn.under_sampling import NearMiss\n",
        "\n",
        "#ModelSelection/Validation\n",
        "from sklearn.model_selection import StratifiedKFold\n",
        "from sklearn.model_selection import train_test_split\n",
        "from sklearn.model_selection import cross_val_score\n",
        "from sklearn.model_selection import GridSearchCV\n",
        "\n",
        "#Pipeline\n",
        "from sklearn.pipeline import Pipeline\n",
        "from imblearn.pipeline import make_pipeline\n",
        "\n",
        "#Models\n",
        "\n",
        "#Multiclass\n",
        "from sklearn.neighbors import KNeighborsClassifier\n",
        "from sklearn.neural_network import MLPClassifier\n",
        "from sklearn.naive_bayes import GaussianNB\n",
        "from sklearn.naive_bayes import BernoulliNB\n",
        "from sklearn.ensemble import RandomForestClassifier\n",
        "from sklearn.svm import LinearSVC\n",
        "from sklearn.linear_model import LogisticRegression\n",
        "\n",
        "#One Vs One\n",
        "from sklearn.gaussian_process import GaussianProcessClassifier\n",
        "from sklearn.svm import SVC\n",
        "\n",
        "#One Vs Rest\n",
        "from sklearn.svm import LinearSVC\n",
        "from sklearn.linear_model import SGDClassifier\n",
        "from sklearn.linear_model import LogisticRegression\n",
        "\n",
        "\n",
        "#Metrics\n",
        "from sklearn.metrics import confusion_matrix\n",
        "from sklearn.metrics import classification_report\n",
        "from sklearn.metrics import precision_score, recall_score, f1_score, accuracy_score\n",
        "\n",
        "from collections import Counter\n",
        "\n",
        "nltk.download('wordnet')\n",
        "\n",
        "import warnings\n",
        "warnings.simplefilter(action='ignore', category=FutureWarning)\n",
        "\n",
        "#from gensim.utils import lemmatize as gs_lemmatize\n",
        "#from pattern.en import parse\n"
      ],
      "execution_count": 232,
      "outputs": [
        {
          "output_type": "stream",
          "text": [
            "[nltk_data] Downloading package wordnet to /root/nltk_data...\n",
            "[nltk_data]   Package wordnet is already up-to-date!\n"
          ],
          "name": "stdout"
        }
      ]
    },
    {
      "cell_type": "code",
      "metadata": {
        "colab": {
          "base_uri": "https://localhost:8080/"
        },
        "id": "y8qFD7Y1Z4BU",
        "outputId": "31e2ff90-339b-4b36-c74c-577b44b9c4e4"
      },
      "source": [
        "nltk.download('punkt')\n",
        "nltk.download('averaged_perceptron_tagger')"
      ],
      "execution_count": 186,
      "outputs": [
        {
          "output_type": "stream",
          "text": [
            "[nltk_data] Downloading package punkt to /root/nltk_data...\n",
            "[nltk_data]   Package punkt is already up-to-date!\n",
            "[nltk_data] Downloading package averaged_perceptron_tagger to\n",
            "[nltk_data]     /root/nltk_data...\n",
            "[nltk_data]   Package averaged_perceptron_tagger is already up-to-\n",
            "[nltk_data]       date!\n"
          ],
          "name": "stdout"
        },
        {
          "output_type": "execute_result",
          "data": {
            "text/plain": [
              "True"
            ]
          },
          "metadata": {
            "tags": []
          },
          "execution_count": 186
        }
      ]
    },
    {
      "cell_type": "markdown",
      "metadata": {
        "id": "VefJNuI71BFk"
      },
      "source": [
        "# Function Definitions\n"
      ]
    },
    {
      "cell_type": "code",
      "metadata": {
        "id": "rb_RMfDF1Gj0"
      },
      "source": [
        "#DEFINE STOPWORD LIST\n",
        "stopwords =['in', 'of', 'at', 'a','the', 'and']\n",
        "\n",
        "def rm_stopwords(review):\n",
        "  tokens = nltk.word_tokenize(review)\n",
        "  stopworded = ' '.join(word for word in tokens if word.lower() not in stopwords)\n",
        "  return stopworded\n",
        "\n",
        "def rm_punct(review):\n",
        "  #remove punctuation\n",
        "  tokens = nltk.word_tokenize(review)\n",
        "  cleaned_review = ' '.join(token for token in tokens if token not in string.punctuation)\n",
        "  return cleaned_review\n",
        "\n",
        "def trim_repeats(review):\n",
        "  tokens = nltk.word_tokenize(review)\n",
        "  trimmed = ' '.join(re.sub(r'(.)\\1+', r'\\1\\1', word) for word in tokens)\n",
        "  return trimmed\n",
        "\n",
        "wnl = nltk.WordNetLemmatizer()\n",
        "def lemmatize(review):\n",
        "  tokens = nltk.word_tokenize(review)\n",
        "  lemmatized = ' '.join(wnl.lemmatize(word) for word in tokens)\n",
        "  return lemmatized\n",
        "def tag(review):\n",
        "  tokens = nltk.word_tokenize(review)\n",
        "  taggedtokens = nltk.pos_tag(tokens)\n",
        "  tpls= []\n",
        "  for tpl in taggedtokens:\n",
        "    tpls.append('/'.join(tpl))\n",
        "  tagged_text = ' '.join(tpl for tpl in tpls)\n",
        "  return tagged_text\n",
        "\n",
        "def cross_validate(k, X,Y, pipeline):\n",
        "  kfold = StratifiedKFold(n_splits=k, shuffle=True, random_state=23)\n",
        "  accuracy = []\n",
        "  precision = []\n",
        "  recall = []\n",
        "  i = 0\n",
        "  f1 = []\n",
        "  for train, test in kfold.split(X, Y):\n",
        "\n",
        "      fit = pipeline.fit(X[train], Y[train])\n",
        "      prediction = fit.predict(X[test])\n",
        "      scores = fit.score(X[test],Y[test])\n",
        "        \n",
        "      accuracy.append(scores * 100)\n",
        "      \n",
        "      \n",
        "      precision.append(precision_score(Y[test], prediction, average='macro')*100)\n",
        "      print('Confusion Matrix: \\n', confusion_matrix(Y[test], prediction))\n",
        "      print('\\nAccuracy: ', accuracy_score(Y[test], prediction))\n",
        "      print('Per Class Metrics:')\n",
        "      print('                1           2          3         4          5')\n",
        "      print('Precision:',precision_score(Y[test], prediction, average=None))\n",
        "      recall.append(recall_score(Y[test], prediction, average='macro')*100)\n",
        "      print('Recall:   ',recall_score(Y[test], prediction, average=None))\n",
        "      f1.append(f1_score(Y[test], prediction, average='macro')*100)\n",
        "      print('F1 Score: ',f1_score(Y[test], prediction, average=None))\n",
        "      print('-'*67)\n",
        "\n",
        "  print(\"Average Macro Accuracy : %.2f ± %.2f%%\" % (np.mean(accuracy), np.std(accuracy)))\n",
        "  print(\"Average Macro Precision: %.2f ± %.2f%%\" % (np.mean(precision), np.std(precision)))\n",
        "  print(\"Average Macro Recall   : %.2f ± %.2f%%\" % (np.mean(recall), np.std(recall)))\n",
        "  print(\"Average Macro F1 score : %.2f ± %.2f%%\" % (np.mean(f1), np.std(f1)))\n",
        "\n",
        "\n"
      ],
      "execution_count": 243,
      "outputs": []
    },
    {
      "cell_type": "markdown",
      "metadata": {
        "id": "KRRmWKrWeH_2"
      },
      "source": [
        "#1) Read in Reviews"
      ]
    },
    {
      "cell_type": "code",
      "metadata": {
        "colab": {
          "base_uri": "https://localhost:8080/",
          "height": 424
        },
        "id": "9fqDUdTy9dyw",
        "outputId": "49bc74d6-5cd1-4789-c32a-d2c6ed79f79f"
      },
      "source": [
        "unaltered = pd.read_csv('unaltered10000reviews.csv')\n",
        "unaltered.dropna()"
      ],
      "execution_count": 239,
      "outputs": [
        {
          "output_type": "execute_result",
          "data": {
            "text/html": [
              "<div>\n",
              "<style scoped>\n",
              "    .dataframe tbody tr th:only-of-type {\n",
              "        vertical-align: middle;\n",
              "    }\n",
              "\n",
              "    .dataframe tbody tr th {\n",
              "        vertical-align: top;\n",
              "    }\n",
              "\n",
              "    .dataframe thead th {\n",
              "        text-align: right;\n",
              "    }\n",
              "</style>\n",
              "<table border=\"1\" class=\"dataframe\">\n",
              "  <thead>\n",
              "    <tr style=\"text-align: right;\">\n",
              "      <th></th>\n",
              "      <th>stars</th>\n",
              "      <th>text</th>\n",
              "    </tr>\n",
              "  </thead>\n",
              "  <tbody>\n",
              "    <tr>\n",
              "      <th>0</th>\n",
              "      <td>5</td>\n",
              "      <td>My wife took me here on my birthday for breakf...</td>\n",
              "    </tr>\n",
              "    <tr>\n",
              "      <th>1</th>\n",
              "      <td>5</td>\n",
              "      <td>I have no idea why some people give bad review...</td>\n",
              "    </tr>\n",
              "    <tr>\n",
              "      <th>2</th>\n",
              "      <td>4</td>\n",
              "      <td>love the gyro plate. Rice is so good and I als...</td>\n",
              "    </tr>\n",
              "    <tr>\n",
              "      <th>3</th>\n",
              "      <td>5</td>\n",
              "      <td>Rosie, Dakota, and I LOVE Chaparral Dog Park!!...</td>\n",
              "    </tr>\n",
              "    <tr>\n",
              "      <th>4</th>\n",
              "      <td>5</td>\n",
              "      <td>General Manager Scott Petello is a good egg!!!...</td>\n",
              "    </tr>\n",
              "    <tr>\n",
              "      <th>...</th>\n",
              "      <td>...</td>\n",
              "      <td>...</td>\n",
              "    </tr>\n",
              "    <tr>\n",
              "      <th>9995</th>\n",
              "      <td>3</td>\n",
              "      <td>First visit...Had lunch here today - used my G...</td>\n",
              "    </tr>\n",
              "    <tr>\n",
              "      <th>9996</th>\n",
              "      <td>4</td>\n",
              "      <td>Should be called house of deliciousness!\\n\\nI ...</td>\n",
              "    </tr>\n",
              "    <tr>\n",
              "      <th>9997</th>\n",
              "      <td>4</td>\n",
              "      <td>I recently visited Olive and Ivy for business ...</td>\n",
              "    </tr>\n",
              "    <tr>\n",
              "      <th>9998</th>\n",
              "      <td>2</td>\n",
              "      <td>My nephew just moved to Scottsdale recently so...</td>\n",
              "    </tr>\n",
              "    <tr>\n",
              "      <th>9999</th>\n",
              "      <td>5</td>\n",
              "      <td>4-5 locations.. all 4.5 star average.. I think...</td>\n",
              "    </tr>\n",
              "  </tbody>\n",
              "</table>\n",
              "<p>10000 rows × 2 columns</p>\n",
              "</div>"
            ],
            "text/plain": [
              "      stars                                               text\n",
              "0         5  My wife took me here on my birthday for breakf...\n",
              "1         5  I have no idea why some people give bad review...\n",
              "2         4  love the gyro plate. Rice is so good and I als...\n",
              "3         5  Rosie, Dakota, and I LOVE Chaparral Dog Park!!...\n",
              "4         5  General Manager Scott Petello is a good egg!!!...\n",
              "...     ...                                                ...\n",
              "9995      3  First visit...Had lunch here today - used my G...\n",
              "9996      4  Should be called house of deliciousness!\\n\\nI ...\n",
              "9997      4  I recently visited Olive and Ivy for business ...\n",
              "9998      2  My nephew just moved to Scottsdale recently so...\n",
              "9999      5  4-5 locations.. all 4.5 star average.. I think...\n",
              "\n",
              "[10000 rows x 2 columns]"
            ]
          },
          "metadata": {
            "tags": []
          },
          "execution_count": 239
        }
      ]
    },
    {
      "cell_type": "code",
      "metadata": {
        "colab": {
          "base_uri": "https://localhost:8080/",
          "height": 424
        },
        "id": "vpdVZZvVeL01",
        "outputId": "1077c2b8-25c6-413e-d1c6-e386eeab0b1f"
      },
      "source": [
        "expanded = pd.read_csv('expanded10000reviews.csv')\n",
        "expanded.dropna()"
      ],
      "execution_count": 240,
      "outputs": [
        {
          "output_type": "execute_result",
          "data": {
            "text/html": [
              "<div>\n",
              "<style scoped>\n",
              "    .dataframe tbody tr th:only-of-type {\n",
              "        vertical-align: middle;\n",
              "    }\n",
              "\n",
              "    .dataframe tbody tr th {\n",
              "        vertical-align: top;\n",
              "    }\n",
              "\n",
              "    .dataframe thead th {\n",
              "        text-align: right;\n",
              "    }\n",
              "</style>\n",
              "<table border=\"1\" class=\"dataframe\">\n",
              "  <thead>\n",
              "    <tr style=\"text-align: right;\">\n",
              "      <th></th>\n",
              "      <th>text</th>\n",
              "      <th>stars</th>\n",
              "    </tr>\n",
              "  </thead>\n",
              "  <tbody>\n",
              "    <tr>\n",
              "      <th>0</th>\n",
              "      <td>My wife took me here on my birthday for breakf...</td>\n",
              "      <td>5</td>\n",
              "    </tr>\n",
              "    <tr>\n",
              "      <th>1</th>\n",
              "      <td>I have no idea why some people give bad review...</td>\n",
              "      <td>5</td>\n",
              "    </tr>\n",
              "    <tr>\n",
              "      <th>2</th>\n",
              "      <td>love the gyro plate. Rice is so good and I als...</td>\n",
              "      <td>4</td>\n",
              "    </tr>\n",
              "    <tr>\n",
              "      <th>3</th>\n",
              "      <td>Rosie, Dakota, and I LOVE Chaparral Dog Park!!...</td>\n",
              "      <td>5</td>\n",
              "    </tr>\n",
              "    <tr>\n",
              "      <th>4</th>\n",
              "      <td>General Manager Scott Petello is a good egg!!!...</td>\n",
              "      <td>5</td>\n",
              "    </tr>\n",
              "    <tr>\n",
              "      <th>...</th>\n",
              "      <td>...</td>\n",
              "      <td>...</td>\n",
              "    </tr>\n",
              "    <tr>\n",
              "      <th>9995</th>\n",
              "      <td>Should be called house of deliciousness!\\n\\nI ...</td>\n",
              "      <td>4</td>\n",
              "    </tr>\n",
              "    <tr>\n",
              "      <th>9996</th>\n",
              "      <td>I recently visited Olive and Ivy for business ...</td>\n",
              "      <td>4</td>\n",
              "    </tr>\n",
              "    <tr>\n",
              "      <th>9997</th>\n",
              "      <td>My nephew just moved to Scottsdale recently so...</td>\n",
              "      <td>2</td>\n",
              "    </tr>\n",
              "    <tr>\n",
              "      <th>9998</th>\n",
              "      <td>4-5 locations.. all 4.5 star average.. I think...</td>\n",
              "      <td>5</td>\n",
              "    </tr>\n",
              "    <tr>\n",
              "      <th>9999</th>\n",
              "      <td>I like the idea of Sidebar, but I do not reall...</td>\n",
              "      <td>3</td>\n",
              "    </tr>\n",
              "  </tbody>\n",
              "</table>\n",
              "<p>10000 rows × 2 columns</p>\n",
              "</div>"
            ],
            "text/plain": [
              "                                                   text  stars\n",
              "0     My wife took me here on my birthday for breakf...      5\n",
              "1     I have no idea why some people give bad review...      5\n",
              "2     love the gyro plate. Rice is so good and I als...      4\n",
              "3     Rosie, Dakota, and I LOVE Chaparral Dog Park!!...      5\n",
              "4     General Manager Scott Petello is a good egg!!!...      5\n",
              "...                                                 ...    ...\n",
              "9995  Should be called house of deliciousness!\\n\\nI ...      4\n",
              "9996  I recently visited Olive and Ivy for business ...      4\n",
              "9997  My nephew just moved to Scottsdale recently so...      2\n",
              "9998  4-5 locations.. all 4.5 star average.. I think...      5\n",
              "9999  I like the idea of Sidebar, but I do not reall...      3\n",
              "\n",
              "[10000 rows x 2 columns]"
            ]
          },
          "metadata": {
            "tags": []
          },
          "execution_count": 240
        }
      ]
    },
    {
      "cell_type": "code",
      "metadata": {
        "colab": {
          "base_uri": "https://localhost:8080/",
          "height": 206
        },
        "id": "_VxB41vI7Eh_",
        "outputId": "6c7c0bc3-539e-46d7-9de2-c71c694ed859"
      },
      "source": [
        "ourdata = pd.read_csv('unaltered1000reviews.csv')\n",
        "ourdata.dropna()\n",
        "ourdata = ourdata.drop(columns=['author'])\n",
        "ourdata = ourdata.drop(columns=['date'])\n",
        "ourdata = ourdata.drop(columns=['restaurant'])\n",
        "\n",
        "ourdata['review']= ourdata['review'].str[2:-2]\n",
        "ourdata['rating']=ourdata['rating'].str[2:-2]\n",
        "ourdata['rating']=ourdata['rating'].str[:1]\n",
        "\n",
        "ourdata = ourdata.rename(columns={'review': 'text', 'rating' : 'stars'})\n",
        "ourdata.head()"
      ],
      "execution_count": 241,
      "outputs": [
        {
          "output_type": "execute_result",
          "data": {
            "text/html": [
              "<div>\n",
              "<style scoped>\n",
              "    .dataframe tbody tr th:only-of-type {\n",
              "        vertical-align: middle;\n",
              "    }\n",
              "\n",
              "    .dataframe tbody tr th {\n",
              "        vertical-align: top;\n",
              "    }\n",
              "\n",
              "    .dataframe thead th {\n",
              "        text-align: right;\n",
              "    }\n",
              "</style>\n",
              "<table border=\"1\" class=\"dataframe\">\n",
              "  <thead>\n",
              "    <tr style=\"text-align: right;\">\n",
              "      <th></th>\n",
              "      <th>stars</th>\n",
              "      <th>text</th>\n",
              "    </tr>\n",
              "  </thead>\n",
              "  <tbody>\n",
              "    <tr>\n",
              "      <th>0</th>\n",
              "      <td>5</td>\n",
              "      <td>Went for my birthday all covid 19 precautions ...</td>\n",
              "    </tr>\n",
              "    <tr>\n",
              "      <th>1</th>\n",
              "      <td>5</td>\n",
              "      <td>Had lunch here yesterday with my fiance. I'm v...</td>\n",
              "    </tr>\n",
              "    <tr>\n",
              "      <th>2</th>\n",
              "      <td>5</td>\n",
              "      <td>My new favorite local hangout. I am almost emb...</td>\n",
              "    </tr>\n",
              "    <tr>\n",
              "      <th>3</th>\n",
              "      <td>2</td>\n",
              "      <td>I really wanted to like this place. I came her...</td>\n",
              "    </tr>\n",
              "    <tr>\n",
              "      <th>4</th>\n",
              "      <td>4</td>\n",
              "      <td>Visited for the first time, Sunday breakfast/b...</td>\n",
              "    </tr>\n",
              "  </tbody>\n",
              "</table>\n",
              "</div>"
            ],
            "text/plain": [
              "  stars                                               text\n",
              "0     5  Went for my birthday all covid 19 precautions ...\n",
              "1     5  Had lunch here yesterday with my fiance. I'm v...\n",
              "2     5  My new favorite local hangout. I am almost emb...\n",
              "3     2  I really wanted to like this place. I came her...\n",
              "4     4  Visited for the first time, Sunday breakfast/b..."
            ]
          },
          "metadata": {
            "tags": []
          },
          "execution_count": 241
        }
      ]
    },
    {
      "cell_type": "code",
      "metadata": {
        "id": "hIli-CXx1ge-"
      },
      "source": [
        "#set preferred dataset\n",
        "base = expanded.copy()"
      ],
      "execution_count": 242,
      "outputs": []
    },
    {
      "cell_type": "markdown",
      "metadata": {
        "id": "4t_LEQYIkWEw"
      },
      "source": [
        "# |OPTIONAL| See Most common Words in Reviews (Used to determine potential stopwords)"
      ]
    },
    {
      "cell_type": "markdown",
      "metadata": {
        "id": "dhxtZZ7j2Qwk"
      },
      "source": [
        "**See Most common Words in All Reviews**"
      ]
    },
    {
      "cell_type": "code",
      "metadata": {
        "colab": {
          "base_uri": "https://localhost:8080/"
        },
        "id": "GuQLNHWk1_P4",
        "outputId": "0e4711f6-e34f-4b7b-821b-6054055594a3"
      },
      "source": [
        "all = base[(base['stars'] == 5)]\n",
        "Counter(\" \".join(all['text'].str.lower()).split()).most_common(100)"
      ],
      "execution_count": 195,
      "outputs": [
        {
          "output_type": "execute_result",
          "data": {
            "text/plain": [
              "[('the', 18606),\n",
              " ('and', 13628),\n",
              " ('i', 11897),\n",
              " ('a', 10066),\n",
              " ('to', 8477),\n",
              " ('is', 7377),\n",
              " ('of', 6062),\n",
              " ('it', 4766),\n",
              " ('was', 4713),\n",
              " ('in', 4394),\n",
              " ('for', 4275),\n",
              " ('have', 3793),\n",
              " ('you', 3736),\n",
              " ('my', 3527),\n",
              " ('not', 3383),\n",
              " ('that', 3254),\n",
              " ('with', 3196),\n",
              " ('this', 3155),\n",
              " ('they', 2849),\n",
              " ('are', 2813),\n",
              " ('we', 2563),\n",
              " ('on', 2370),\n",
              " ('but', 2353),\n",
              " ('had', 1965),\n",
              " ('so', 1843),\n",
              " ('as', 1747),\n",
              " ('at', 1736),\n",
              " ('great', 1632),\n",
              " ('place', 1499),\n",
              " ('be', 1462),\n",
              " ('were', 1402),\n",
              " ('very', 1342),\n",
              " ('if', 1318),\n",
              " ('their', 1310),\n",
              " ('all', 1285),\n",
              " ('will', 1241),\n",
              " ('there', 1236),\n",
              " ('just', 1219),\n",
              " ('like', 1185),\n",
              " ('food', 1176),\n",
              " ('one', 1147),\n",
              " ('do', 1134),\n",
              " ('good', 1104),\n",
              " ('am', 1081),\n",
              " ('from', 1081),\n",
              " ('get', 1080),\n",
              " ('me', 1055),\n",
              " ('love', 1027),\n",
              " ('or', 1023),\n",
              " ('out', 1013),\n",
              " ('your', 975),\n",
              " ('about', 970),\n",
              " ('can', 957),\n",
              " ('been', 948),\n",
              " ('here', 942),\n",
              " ('when', 938),\n",
              " ('would', 935),\n",
              " ('our', 920),\n",
              " ('go', 897),\n",
              " ('an', 890),\n",
              " ('some', 884),\n",
              " ('best', 859),\n",
              " ('-', 849),\n",
              " ('really', 835),\n",
              " ('what', 831),\n",
              " ('always', 824),\n",
              " ('has', 814),\n",
              " ('up', 792),\n",
              " ('time', 746),\n",
              " ('also', 734),\n",
              " ('by', 709),\n",
              " ('which', 696),\n",
              " ('he', 668),\n",
              " ('only', 631),\n",
              " ('more', 620),\n",
              " ('did', 619),\n",
              " ('service', 604),\n",
              " ('back', 569),\n",
              " ('little', 562),\n",
              " ('because', 545),\n",
              " ('even', 542),\n",
              " ('she', 527),\n",
              " ('other', 516),\n",
              " ('could', 509),\n",
              " ('never', 509),\n",
              " ('make', 500),\n",
              " ('than', 494),\n",
              " ('no', 489),\n",
              " ('first', 488),\n",
              " ('after', 487),\n",
              " ('cannot', 476),\n",
              " ('us', 470),\n",
              " ('got', 455),\n",
              " ('try', 447),\n",
              " ('nice', 447),\n",
              " ('it.', 446),\n",
              " ('them', 441),\n",
              " ('how', 441),\n",
              " ('every', 441),\n",
              " ('know', 425)]"
            ]
          },
          "metadata": {
            "tags": []
          },
          "execution_count": 195
        }
      ]
    },
    {
      "cell_type": "markdown",
      "metadata": {
        "id": "Tf6DTzIr2N27"
      },
      "source": [
        "**See Most common Words in 5 Star Reviews**"
      ]
    },
    {
      "cell_type": "code",
      "metadata": {
        "id": "eL9Rd4LPkUUu"
      },
      "source": [
        "fives = base[(base['stars'] == 5)]\n",
        "Counter(\" \".join(fives['text'].str.lower()).split()).most_common(100)"
      ],
      "execution_count": null,
      "outputs": []
    },
    {
      "cell_type": "markdown",
      "metadata": {
        "id": "4xbMmAVdkbdS"
      },
      "source": [
        "**See Most common Words in 4 Star Reviews**"
      ]
    },
    {
      "cell_type": "code",
      "metadata": {
        "id": "lHXqVSoMlwhW",
        "colab": {
          "base_uri": "https://localhost:8080/",
          "height": 183
        },
        "outputId": "b13eb45b-5b8a-498c-ad33-4bc73a546e1a"
      },
      "source": [
        "fours = base[(base['stars'] == 4)]\n",
        "Counter(\" \".join(fours['text'].str.lower()).split()).most_common(100)"
      ],
      "execution_count": 191,
      "outputs": [
        {
          "output_type": "error",
          "ename": "NameError",
          "evalue": "ignored",
          "traceback": [
            "\u001b[0;31m---------------------------------------------------------------------------\u001b[0m",
            "\u001b[0;31mNameError\u001b[0m                                 Traceback (most recent call last)",
            "\u001b[0;32m<ipython-input-191-fcf83f4f6426>\u001b[0m in \u001b[0;36m<module>\u001b[0;34m()\u001b[0m\n\u001b[0;32m----> 1\u001b[0;31m \u001b[0mnewdata\u001b[0m \u001b[0;34m=\u001b[0m \u001b[0mdata\u001b[0m\u001b[0;34m[\u001b[0m\u001b[0;34m(\u001b[0m\u001b[0mdata\u001b[0m\u001b[0;34m[\u001b[0m\u001b[0;34m'stars'\u001b[0m\u001b[0;34m]\u001b[0m \u001b[0;34m==\u001b[0m \u001b[0;36m4\u001b[0m\u001b[0;34m)\u001b[0m\u001b[0;34m]\u001b[0m\u001b[0;34m\u001b[0m\u001b[0;34m\u001b[0m\u001b[0m\n\u001b[0m\u001b[1;32m      2\u001b[0m \u001b[0mCounter\u001b[0m\u001b[0;34m(\u001b[0m\u001b[0;34m\" \"\u001b[0m\u001b[0;34m.\u001b[0m\u001b[0mjoin\u001b[0m\u001b[0;34m(\u001b[0m\u001b[0mnewdata\u001b[0m\u001b[0;34m[\u001b[0m\u001b[0;34m'cleantext'\u001b[0m\u001b[0;34m]\u001b[0m\u001b[0;34m.\u001b[0m\u001b[0mstr\u001b[0m\u001b[0;34m.\u001b[0m\u001b[0mlower\u001b[0m\u001b[0;34m(\u001b[0m\u001b[0;34m)\u001b[0m\u001b[0;34m)\u001b[0m\u001b[0;34m.\u001b[0m\u001b[0msplit\u001b[0m\u001b[0;34m(\u001b[0m\u001b[0;34m)\u001b[0m\u001b[0;34m)\u001b[0m\u001b[0;34m.\u001b[0m\u001b[0mmost_common\u001b[0m\u001b[0;34m(\u001b[0m\u001b[0;36m100\u001b[0m\u001b[0;34m)\u001b[0m\u001b[0;34m\u001b[0m\u001b[0;34m\u001b[0m\u001b[0m\n",
            "\u001b[0;31mNameError\u001b[0m: name 'data' is not defined"
          ]
        }
      ]
    },
    {
      "cell_type": "markdown",
      "metadata": {
        "id": "__oQtjmZkfN3"
      },
      "source": [
        "**See Most common Words in 3 Star Reviews**"
      ]
    },
    {
      "cell_type": "code",
      "metadata": {
        "id": "_AiP9zDXk3r-"
      },
      "source": [
        "threes = base[(base['stars'] == 3)]\n",
        "Counter(\" \".join(threes['text'].str.lower()).split()).most_common(100)"
      ],
      "execution_count": null,
      "outputs": []
    },
    {
      "cell_type": "markdown",
      "metadata": {
        "id": "v1aeJqKxky8h"
      },
      "source": [
        "**See Most common Words in 2 Star Reviews**"
      ]
    },
    {
      "cell_type": "code",
      "metadata": {
        "id": "SpvNnGBkk4IG"
      },
      "source": [
        "two = two[(two['stars'] == 2)]\n",
        "Counter(\" \".join(two['text'].str.lower()).split()).most_common(100)"
      ],
      "execution_count": null,
      "outputs": []
    },
    {
      "cell_type": "markdown",
      "metadata": {
        "id": "Miz0xUj6k1D9"
      },
      "source": [
        "**See Most common Words in 1 Star Reviews**"
      ]
    },
    {
      "cell_type": "code",
      "metadata": {
        "id": "RgoBH09sk44c"
      },
      "source": [
        "one = one[(one['stars'] == 1)]\n",
        "Counter(\" \".join(one['text'].str.lower()).split()).most_common(100)"
      ],
      "execution_count": null,
      "outputs": []
    },
    {
      "cell_type": "markdown",
      "metadata": {
        "id": "TSN8h-F3BemC"
      },
      "source": [
        "# 2) Remove Stopwords"
      ]
    },
    {
      "cell_type": "code",
      "metadata": {
        "id": "sMcZ9p7E34Qm"
      },
      "source": [
        "nostopwords = base.copy()\n",
        "nostopwords['text'] = nostopwords['text'].apply(rm_stopwords)\n",
        "#print(nostopwords['text'][3418])\n",
        "#print(nostopwords['text'][6639])"
      ],
      "execution_count": 244,
      "outputs": []
    },
    {
      "cell_type": "markdown",
      "metadata": {
        "id": "Ne05R3DE4WTN"
      },
      "source": [
        "# (OPTIONAL) Create Other Preprocessed Data Sets"
      ]
    },
    {
      "cell_type": "code",
      "metadata": {
        "id": "XDmZ80EK4frY"
      },
      "source": [
        "print(base['text'][3418])"
      ],
      "execution_count": null,
      "outputs": []
    },
    {
      "cell_type": "code",
      "metadata": {
        "colab": {
          "base_uri": "https://localhost:8080/"
        },
        "id": "2B9Mc7tcBj50",
        "outputId": "565b7ab6-0172-4c09-c11d-755c5dfe5025"
      },
      "source": [
        "nopunct = base.copy()\n",
        "nopunct['text'] = nopunct['text'].apply(rm_punct)\n",
        "print(nopunct['text'][3418])\n",
        "print(nopunct['text'][6639])"
      ],
      "execution_count": 199,
      "outputs": [
        {
          "output_type": "stream",
          "text": [
            "Very nice place with extremely friendly staff The food was similar quality to other Mexican food places in the NW Valley ... .good but not spectacular Very good portions for the price I do not live close by but will certainly go back when I am in the area\n",
            "Looove this place I loved the sexy yet simple atmosphere I felt as though the air was cleaner somehow just walking inside Let me first say that Happy Hour prices were outstanding I have to admit I think my favorite Happy Hour spot StingRay has just been outdone The food was delicious All of it ALL ... OF ... IT From the cucumber salad to their famous appetizer the mustard leaf wrap it is flavorful and fresh The service was pretty good but there was some confusion I think more than once so it delayed the service a bit When I have to stop and say `` Hey where is my fill in the blank I know the service is lacking although I would say not enough to keep me away I was really really happy when I left here might have been my company but we all loved it so that is what mattered\n"
          ],
          "name": "stdout"
        }
      ]
    },
    {
      "cell_type": "code",
      "metadata": {
        "colab": {
          "base_uri": "https://localhost:8080/"
        },
        "id": "HTE03xwXDruR",
        "outputId": "62f574b5-7b2f-42a1-86b9-cda3f0257b26"
      },
      "source": [
        "trimmed = base.copy()\n",
        "trimmed['text'] = trimmed['text'].apply(trim_repeats)\n",
        "print(trimmed['text'][3418])\n",
        "print(trimmed['text'][6639])"
      ],
      "execution_count": 201,
      "outputs": [
        {
          "output_type": "stream",
          "text": [
            "Very nice place with extremely friendly staff . The food was similar quality to other Mexican food places in the NW Valley .. .good but not spectacular . Very good portions for the price . I do not live close by but will certainly go back when I am in the area .\n",
            "Loove this place ! I loved the sexy , yet simple atmosphere . I felt as though the air was cleaner somehow just walking inside . Let me first say that Happy Hour prices were outstanding ! I have to admit , I think my favorite Happy Hour spot , StingRay , has just been outdone ! The food was delicious ! All of it ! ALL .. OF .. IT ! From the cucumber salad to their famous appetizer , the mustard leaf wrap , it is flavorful and fresh . The service was pretty good , but there was some confusion I think more than once , so it delayed the service a bit . When I have to stop and say , `` Hey , where is my [ fill in the blank ] , I know the service is lacking , although I would say not enough to keep me away ! I was really , really happy when I left here , might have been my company , but we all loved it so that is what mattered !\n"
          ],
          "name": "stdout"
        }
      ]
    },
    {
      "cell_type": "code",
      "metadata": {
        "colab": {
          "base_uri": "https://localhost:8080/"
        },
        "id": "yqjn_PcdD2-P",
        "outputId": "5dee1591-cabf-46fb-f819-59bb2098205b"
      },
      "source": [
        "lemmatized = base.copy()\n",
        "lemmatized['text'] = lemmatized['text'].apply(lemmatize)\n",
        "print(lemmatized['text'][3418])\n",
        "print(lemmatized['text'][6639])"
      ],
      "execution_count": 202,
      "outputs": [
        {
          "output_type": "stream",
          "text": [
            "Very nice place with extremely friendly staff . The food wa similar quality to other Mexican food place in the NW Valley ... .good but not spectacular . Very good portion for the price . I do not live close by but will certainly go back when I am in the area .\n",
            "Looove this place ! I loved the sexy , yet simple atmosphere . I felt a though the air wa cleaner somehow just walking inside . Let me first say that Happy Hour price were outstanding ! I have to admit , I think my favorite Happy Hour spot , StingRay , ha just been outdone ! The food wa delicious ! All of it ! ALL ... OF ... IT ! From the cucumber salad to their famous appetizer , the mustard leaf wrap , it is flavorful and fresh . The service wa pretty good , but there wa some confusion I think more than once , so it delayed the service a bit . When I have to stop and say , `` Hey , where is my [ fill in the blank ] , I know the service is lacking , although I would say not enough to keep me away ! I wa really , really happy when I left here , might have been my company , but we all loved it so that is what mattered !\n"
          ],
          "name": "stdout"
        }
      ]
    },
    {
      "cell_type": "code",
      "metadata": {
        "colab": {
          "base_uri": "https://localhost:8080/"
        },
        "id": "FdLiq5qURJfS",
        "outputId": "41438895-a71f-457a-9860-f7eede061611"
      },
      "source": [
        "tagged = base.copy()\n",
        "tagged['text'] = tagged['text'].apply(tag)\n",
        "print(tagged['text'][3418])\n",
        "print(tagged['text'][6639])"
      ],
      "execution_count": 203,
      "outputs": [
        {
          "output_type": "stream",
          "text": [
            "Very/RB nice/JJ place/NN with/IN extremely/RB friendly/JJ staff/NN ./. The/DT food/NN was/VBD similar/JJ quality/NN to/TO other/JJ Mexican/JJ food/NN places/NNS in/IN the/DT NW/NNP Valley/NNP .../: .good/NN but/CC not/RB spectacular/JJ ./. Very/RB good/JJ portions/NNS for/IN the/DT price/NN ./. I/PRP do/VBP not/RB live/VB close/RB by/IN but/CC will/MD certainly/RB go/VB back/RB when/WRB I/PRP am/VBP in/IN the/DT area/NN ./.\n",
            "Looove/VB this/DT place/NN !/. I/PRP loved/VBD the/DT sexy/NN ,/, yet/RB simple/JJ atmosphere/NN ./. I/PRP felt/VBD as/IN though/IN the/DT air/NN was/VBD cleaner/JJR somehow/RB just/RB walking/VBG inside/RB ./. Let/VB me/PRP first/JJ say/VBP that/IN Happy/JJ Hour/NNP prices/NNS were/VBD outstanding/JJ !/. I/PRP have/VBP to/TO admit/VB ,/, I/PRP think/VBP my/PRP$ favorite/JJ Happy/JJ Hour/NNP spot/NN ,/, StingRay/NNP ,/, has/VBZ just/RB been/VBN outdone/RB !/. The/DT food/NN was/VBD delicious/JJ !/. All/DT of/IN it/PRP !/. ALL/DT .../: OF/IN .../: IT/NNP !/. From/IN the/DT cucumber/NN salad/NN to/TO their/PRP$ famous/JJ appetizer/NN ,/, the/DT mustard/NN leaf/NN wrap/NN ,/, it/PRP is/VBZ flavorful/JJ and/CC fresh/JJ ./. The/DT service/NN was/VBD pretty/RB good/JJ ,/, but/CC there/EX was/VBD some/DT confusion/NN I/PRP think/VBP more/JJR than/IN once/RB ,/, so/IN it/PRP delayed/VBD the/DT service/NN a/DT bit/NN ./. When/WRB I/PRP have/VBP to/TO stop/VB and/CC say/VB ,/, ``/`` Hey/NNP ,/, where/WRB is/VBZ my/PRP$ [/JJ fill/NN in/IN the/DT blank/NN ]/NNP ,/, I/PRP know/VBP the/DT service/NN is/VBZ lacking/VBG ,/, although/IN I/PRP would/MD say/VB not/RB enough/RB to/TO keep/VB me/PRP away/RB !/. I/PRP was/VBD really/RB ,/, really/RB happy/JJ when/WRB I/PRP left/VBD here/RB ,/, might/MD have/VB been/VBN my/PRP$ company/NN ,/, but/CC we/PRP all/DT loved/VBD it/PRP so/IN that/DT is/VBZ what/WP mattered/VBD !/.\n"
          ],
          "name": "stdout"
        }
      ]
    },
    {
      "cell_type": "code",
      "metadata": {
        "colab": {
          "base_uri": "https://localhost:8080/"
        },
        "id": "sPYqum5-fjzv",
        "outputId": "2b2cb440-6986-4981-a8fc-6c1119415e94"
      },
      "source": [
        "nopunctANDnostopwords = base.copy()\n",
        "nopunctANDnostopwords['text'] = nopunctANDnostopwords['text'].apply(rm_stopwords)\n",
        "nopunctANDnostopwords['text'] = nopunctANDnostopwords['text'].apply(rm_punct)\n",
        "\n",
        "print(nopunctANDnostopwords['text'][3418])\n",
        "print(nopunctANDnostopwords['text'][6639])"
      ],
      "execution_count": 204,
      "outputs": [
        {
          "output_type": "stream",
          "text": [
            "Very nice place with extremely friendly staff food was similar quality to other Mexican food places NW Valley ... .good but not spectacular Very good portions for price I do not live close by but will certainly go back when I am area\n",
            "Looove this place I loved sexy yet simple atmosphere I felt as though air was cleaner somehow just walking inside Let me first say that Happy Hour prices were outstanding I have to admit I think my favorite Happy Hour spot StingRay has just been outdone food was delicious All it ALL ... ... IT From cucumber salad to their famous appetizer mustard leaf wrap it is flavorful fresh service was pretty good but there was some confusion I think more than once so it delayed service bit When I have to stop say `` Hey where is my fill blank I know service is lacking although I would say not enough to keep me away I was really really happy when I left here might have been my company but we all loved it so that is what mattered\n"
          ],
          "name": "stdout"
        }
      ]
    },
    {
      "cell_type": "code",
      "metadata": {
        "id": "TV-Hh9v7ii7n",
        "colab": {
          "base_uri": "https://localhost:8080/"
        },
        "outputId": "ce5924d2-0466-4f62-e09e-bdd341bc9d82"
      },
      "source": [
        "lemmatizedANDnostopwords = base.copy()\n",
        "lemmatizedANDnostopwords['text'] = lemmatizedANDnostopwords['text'].apply(rm_stopwords)\n",
        "lemmatizedANDnostopwords['text'] = lemmatizedANDnostopwords['text'].apply(lemmatize)\n",
        "print(lemmatizedANDnostopwords['text'][3418])\n",
        "print(lemmatizedANDnostopwords['text'][6639])"
      ],
      "execution_count": 205,
      "outputs": [
        {
          "output_type": "stream",
          "text": [
            "Very nice place with extremely friendly staff . food wa similar quality to other Mexican food place NW Valley ... .good but not spectacular . Very good portion for price . I do not live close by but will certainly go back when I am area .\n",
            "Looove this place ! I loved sexy , yet simple atmosphere . I felt a though air wa cleaner somehow just walking inside . Let me first say that Happy Hour price were outstanding ! I have to admit , I think my favorite Happy Hour spot , StingRay , ha just been outdone ! food wa delicious ! All it ! ALL ... ... IT ! From cucumber salad to their famous appetizer , mustard leaf wrap , it is flavorful fresh . service wa pretty good , but there wa some confusion I think more than once , so it delayed service bit . When I have to stop say , `` Hey , where is my [ fill blank ] , I know service is lacking , although I would say not enough to keep me away ! I wa really , really happy when I left here , might have been my company , but we all loved it so that is what mattered !\n"
          ],
          "name": "stdout"
        }
      ]
    },
    {
      "cell_type": "code",
      "metadata": {
        "colab": {
          "base_uri": "https://localhost:8080/"
        },
        "id": "r0sNb1y5jh7m",
        "outputId": "34983ec1-2f18-4468-a1b5-032dc8da3a76"
      },
      "source": [
        "trimmedANDnostopwords = base.copy()\n",
        "trimmedANDnostopwords['text'] = trimmedANDnostopwords['text'].apply(trim_repeats)\n",
        "trimmedANDnostopwords['text'] = trimmedANDnostopwords['text'].apply(rm_stopwords)\n",
        "\n",
        "print(trimmedANDnostopwords['text'][3418])\n",
        "print(trimmedANDnostopwords['text'][6639])"
      ],
      "execution_count": 206,
      "outputs": [
        {
          "output_type": "stream",
          "text": [
            "Very nice place with extremely friendly staff . food was similar quality to other Mexican food places NW Valley .. .good but not spectacular . Very good portions for price . I do not live close by but will certainly go back when I am area .\n",
            "Loove this place ! I loved sexy , yet simple atmosphere . I felt as though air was cleaner somehow just walking inside . Let me first say that Happy Hour prices were outstanding ! I have to admit , I think my favorite Happy Hour spot , StingRay , has just been outdone ! food was delicious ! All it ! ALL .. .. IT ! From cucumber salad to their famous appetizer , mustard leaf wrap , it is flavorful fresh . service was pretty good , but there was some confusion I think more than once , so it delayed service bit . When I have to stop say , `` Hey , where is my [ fill blank ] , I know service is lacking , although I would say not enough to keep me away ! I was really , really happy when I left here , might have been my company , but we all loved it so that is what mattered !\n"
          ],
          "name": "stdout"
        }
      ]
    },
    {
      "cell_type": "code",
      "metadata": {
        "colab": {
          "base_uri": "https://localhost:8080/"
        },
        "id": "U4jiAwvghsgD",
        "outputId": "cfca27a7-7e90-42f3-ecd0-b28f367bf989"
      },
      "source": [
        "all = base.copy()\n",
        "all['text'] = all['text'].apply(trim_repeats)\n",
        "all['text'] = all['text'].apply(lemmatize)\n",
        "all['text'] = all['text'].apply(rm_stopwords)\n",
        "all['text'] = all['text'].apply(rm_punct)\n",
        "# all['text'] = all['text'].apply(tag)\n",
        "\n",
        "print(all['text'][3418])\n",
        "print(all['text'][6639])"
      ],
      "execution_count": 207,
      "outputs": [
        {
          "output_type": "stream",
          "text": [
            "Very nice place with extremely friendly staff food wa similar quality to other Mexican food place NW Valley .. .good but not spectacular Very good portion for price I do not live close by but will certainly go back when I am area\n",
            "Loove this place I loved sexy yet simple atmosphere I felt though air wa cleaner somehow just walking inside Let me first say that Happy Hour price were outstanding I have to admit I think my favorite Happy Hour spot StingRay ha just been outdone food wa delicious All it ALL .. .. IT From cucumber salad to their famous appetizer mustard leaf wrap it is flavorful fresh service wa pretty good but there wa some confusion I think more than once so it delayed service bit When I have to stop say `` Hey where is my fill blank I know service is lacking although I would say not enough to keep me away I wa really really happy when I left here might have been my company but we all loved it so that is what mattered\n"
          ],
          "name": "stdout"
        }
      ]
    },
    {
      "cell_type": "markdown",
      "metadata": {
        "id": "FszaRbUgwN1p"
      },
      "source": [
        "# 3) Initialize Pipeline Components\n"
      ]
    },
    {
      "cell_type": "code",
      "metadata": {
        "id": "XLMzLRXQwblw"
      },
      "source": [
        "#SET PARAMETERS HERE\n",
        "maxdf = 0.65\n",
        "mindf = 1\n",
        "multiclassLSVC = 'crammer_singer'\n",
        "multiclassLR = 'ovr'\n",
        "ngrams = (1,3)\n",
        "nmversion = 1\n",
        "rndmst = 23\n",
        "trees = 1000\n",
        "clswgt = 'balanced'\n",
        "sgdloss = 'hinge'\n",
        "lrslvr = 'liblinear'\n",
        "#================================================================================\n",
        "#MODELS\n",
        "#================================================================================\n",
        "\n",
        "#one vs one\n",
        "svc = SVC(random_state=rndmst)\n",
        "\n",
        "#multiclass\n",
        "mlp = MLPClassifier(random_state=rndmst)\n",
        "mlp.out_activation_ = 'softmax'\n",
        "gnb = GaussianNB()\n",
        "rfc = RandomForestClassifier(random_state=rndmst, n_estimators=trees)\n",
        "\n",
        "#one vs rest\n",
        "lsvc = LinearSVC(random_state=rndmst, multi_class=multiclassLSVC, max_iter=100000000,class_weight=clswgt)\n",
        "lr = LogisticRegression(multi_class = multiclassLR, random_state=rndmst, max_iter=100000000, C=0.1, penalty = 'l2', solver = lrslvr)\n",
        "sgd = SGDClassifier(random_state=rndmst,loss=sgdloss,early_stopping=True, class_weight=clswgt)\n",
        "\n",
        "#================================================================================\n",
        "#VECTORIZERS\n",
        "#================================================================================\n",
        "tvec = TfidfVectorizer(ngram_range=ngrams, max_df=maxdf, min_df = mindf)\n",
        "cvec = CountVectorizer(ngram_range=ngrams, max_df=maxdf, min_df = mindf)\n",
        "\n",
        "rus = RandomUnderSampler(random_state=rndmst)\n",
        "smt = SMOTE(random_state=rndmst)\n",
        "\n",
        "#================================================================================\n",
        "#RESAMPLERS\n",
        "#================================================================================\n",
        "\n",
        "#Undersamplers\n",
        "rus = RandomUnderSampler(random_state=rndmst)\n",
        "enn = EditedNearestNeighbours(random_state=rndmst)\n",
        "tm = TomekLinks(random_state=rndmst)\n",
        "nm = NearMiss(random_state=rndmst,version=nmversion)\n",
        "\n",
        "#Oversamplers\n",
        "smt = SMOTE(random_state=rndmst)\n",
        "\n"
      ],
      "execution_count": 245,
      "outputs": []
    },
    {
      "cell_type": "markdown",
      "metadata": {
        "id": "RQYDsYlE9zMr"
      },
      "source": [
        "#4) Construct a Pipeline"
      ]
    },
    {
      "cell_type": "code",
      "metadata": {
        "id": "XeHISqA8-L3I"
      },
      "source": [
        "pipelinename = \"tvec, sgd, ngrams: 1,3\"\n",
        "pipeline = make_pipeline(tvec,sgd)"
      ],
      "execution_count": 246,
      "outputs": []
    },
    {
      "cell_type": "markdown",
      "metadata": {
        "id": "220l5H640ARY"
      },
      "source": [
        "# 5) Run pipeline on Dataset with Stopwords Removed"
      ]
    },
    {
      "cell_type": "code",
      "metadata": {
        "colab": {
          "base_uri": "https://localhost:8080/"
        },
        "id": "9WZbmW4Oz_r7",
        "outputId": "f98025b0-f3f9-48aa-f0a9-0b5d4b2e94d7"
      },
      "source": [
        "cross_validate(5, nostopwords['text'], nostopwords['stars'], pipeline)"
      ],
      "execution_count": 247,
      "outputs": [
        {
          "output_type": "stream",
          "text": [
            "Confusion Matrix: \n",
            " [[ 82  41   9   9   8]\n",
            " [ 38  71  48  16  12]\n",
            " [ 10  33 121 100  29]\n",
            " [ 17  22  77 374 215]\n",
            " [ 13  10  19 180 446]]\n",
            "\n",
            "Accuracy:  0.547\n",
            "Per Class Metrics:\n",
            "                1           2          3         4          5\n",
            "Precision: [0.5125     0.40112994 0.44160584 0.55081001 0.62816901]\n",
            "Recall:    [0.55033557 0.38378378 0.41296928 0.53049645 0.66766467]\n",
            "F1 Score:  [0.53074434 0.39226519 0.42680776 0.54046243 0.64731495]\n",
            "-------------------------------------------------------------------\n",
            "Confusion Matrix: \n",
            " [[ 89  29  14   7  11]\n",
            " [ 39  68  53  19   6]\n",
            " [ 21  43 116  94  18]\n",
            " [  6  19  71 389 220]\n",
            " [ 11   3  26 164 464]]\n",
            "\n",
            "Accuracy:  0.563\n",
            "Per Class Metrics:\n",
            "                1           2          3         4          5\n",
            "Precision: [0.53614458 0.41975309 0.41428571 0.57800892 0.64534075]\n",
            "Recall:    [0.59333333 0.36756757 0.39726027 0.55177305 0.69461078]\n",
            "F1 Score:  [0.56329114 0.39193084 0.40559441 0.56458636 0.66906994]\n",
            "-------------------------------------------------------------------\n",
            "Confusion Matrix: \n",
            " [[ 99  17  15   5  14]\n",
            " [ 42  56  63  16   8]\n",
            " [ 10  24 127 112  19]\n",
            " [ 14  19  95 368 210]\n",
            " [ 13   7  23 169 455]]\n",
            "\n",
            "Accuracy:  0.5525\n",
            "Per Class Metrics:\n",
            "                1           2          3         4          5\n",
            "Precision: [0.55617978 0.45528455 0.39318885 0.54925373 0.64447592]\n",
            "Recall:    [0.66       0.3027027  0.43493151 0.52124646 0.68215892]\n",
            "F1 Score:  [0.60365854 0.36363636 0.41300813 0.53488372 0.66278223]\n",
            "-------------------------------------------------------------------\n",
            "Confusion Matrix: \n",
            " [[ 97  26  12   6   9]\n",
            " [ 33  59  62  21  11]\n",
            " [ 20  31 144  73  24]\n",
            " [ 13  20 105 352 215]\n",
            " [ 15  10  32 159 451]]\n",
            "\n",
            "Accuracy:  0.5515\n",
            "Per Class Metrics:\n",
            "                1           2          3         4          5\n",
            "Precision: [0.54494382 0.40410959 0.4056338  0.57610475 0.63521127]\n",
            "Recall:    [0.64666667 0.3172043  0.49315068 0.49929078 0.67616192]\n",
            "F1 Score:  [0.59146341 0.35542169 0.44513138 0.53495441 0.6550472 ]\n",
            "-------------------------------------------------------------------\n",
            "Confusion Matrix: \n",
            " [[ 93  30   8   6  13]\n",
            " [ 41  67  53  17   8]\n",
            " [ 11  44 128  92  17]\n",
            " [ 14  18  86 356 231]\n",
            " [  7   4  17 162 477]]\n",
            "\n",
            "Accuracy:  0.5605\n",
            "Per Class Metrics:\n",
            "                1           2          3         4          5\n",
            "Precision: [0.56024096 0.41104294 0.43835616 0.56240126 0.63941019]\n",
            "Recall:    [0.62       0.36021505 0.43835616 0.50496454 0.71514243]\n",
            "F1 Score:  [0.58860759 0.38395415 0.43835616 0.53213752 0.67515924]\n",
            "-------------------------------------------------------------------\n",
            "Average Macro Accuracy : 55.49 ± 0.59%\n",
            "Average Macro Precision: 51.61 ± 0.55%\n",
            "Average Macro Recall   : 52.09 ± 0.66%\n",
            "Average Macro F1 score : 51.64 ± 0.53%\n"
          ],
          "name": "stdout"
        }
      ]
    },
    {
      "cell_type": "markdown",
      "metadata": {
        "id": "MMWP6VV59xih"
      },
      "source": [
        "# (OPTIONAL) Run on Other Preprocessed Data Set(s)"
      ]
    },
    {
      "cell_type": "code",
      "metadata": {
        "id": "IwHl6z2oEoTx",
        "colab": {
          "base_uri": "https://localhost:8080/"
        },
        "outputId": "f1f5bfb6-8216-40f8-fe86-8898c0dd7e02"
      },
      "source": [
        "cross_validate(5, base['text'], base['stars'], pipeline)"
      ],
      "execution_count": 175,
      "outputs": [
        {
          "output_type": "stream",
          "text": [
            "Confusion Matrix: \n",
            " [[ 81  43   7   7  11]\n",
            " [ 42  61  53  20   9]\n",
            " [ 13  32 114 107  27]\n",
            " [ 10  21  55 394 225]\n",
            " [  8   9  13 183 455]]\n",
            "\n",
            "Accuracy:  0.5525\n",
            "Per Class Metrics:\n",
            "                1           2          3         4          5\n",
            "Precision: [0.52597403 0.36746988 0.47107438 0.55414909 0.6258597 ]\n",
            "Recall:    [0.54362416 0.32972973 0.3890785  0.55886525 0.68113772]\n",
            "F1 Score:  [0.53465347 0.34757835 0.42616822 0.55649718 0.65232975]\n",
            "-------------------------------------------------------------------\n",
            "Confusion Matrix: \n",
            " [[ 96  31  10   6   7]\n",
            " [ 46  69  49  16   5]\n",
            " [ 15  45 116  89  27]\n",
            " [ 11  22  80 355 237]\n",
            " [ 15   4  28 155 466]]\n",
            "\n",
            "Accuracy:  0.551\n",
            "Per Class Metrics:\n",
            "                1           2          3         4          5\n",
            "Precision: [0.52459016 0.40350877 0.40989399 0.57165862 0.62803235]\n",
            "Recall:    [0.64       0.37297297 0.39726027 0.5035461  0.69760479]\n",
            "F1 Score:  [0.57657658 0.38764045 0.40347826 0.53544495 0.66099291]\n",
            "-------------------------------------------------------------------\n",
            "Confusion Matrix: \n",
            " [[ 98  25  11   2  14]\n",
            " [ 37  76  43  20   9]\n",
            " [ 12  30 111 105  34]\n",
            " [ 14  20  85 373 214]\n",
            " [ 14   9  25 166 453]]\n",
            "\n",
            "Accuracy:  0.5555\n",
            "Per Class Metrics:\n",
            "                1           2          3         4          5\n",
            "Precision: [0.56       0.475      0.40363636 0.56006006 0.62569061]\n",
            "Recall:    [0.65333333 0.41081081 0.38013699 0.52832861 0.67916042]\n",
            "F1 Score:  [0.60307692 0.44057971 0.39153439 0.54373178 0.65132998]\n",
            "-------------------------------------------------------------------\n",
            "Confusion Matrix: \n",
            " [[ 86  44   7   6   7]\n",
            " [ 32  80  44  20  10]\n",
            " [ 18  59  95  97  23]\n",
            " [ 10  30  94 369 202]\n",
            " [ 10  18  29 156 454]]\n",
            "\n",
            "Accuracy:  0.542\n",
            "Per Class Metrics:\n",
            "                1           2          3         4          5\n",
            "Precision: [0.55128205 0.34632035 0.35315985 0.56944444 0.65229885]\n",
            "Recall:    [0.57333333 0.43010753 0.32534247 0.52340426 0.68065967]\n",
            "F1 Score:  [0.5620915  0.38369305 0.33868093 0.54545455 0.66617755]\n",
            "-------------------------------------------------------------------\n",
            "Confusion Matrix: \n",
            " [[ 98  27   4   7  14]\n",
            " [ 34  63  59  21   9]\n",
            " [ 13  37 119 101  22]\n",
            " [ 10  15  86 380 214]\n",
            " [  6   4  13 172 472]]\n",
            "\n",
            "Accuracy:  0.566\n",
            "Per Class Metrics:\n",
            "                1           2          3         4          5\n",
            "Precision: [0.60869565 0.43150685 0.42348754 0.55800294 0.64569083]\n",
            "Recall:    [0.65333333 0.33870968 0.40753425 0.53900709 0.70764618]\n",
            "F1 Score:  [0.63022508 0.37951807 0.41535777 0.54834055 0.67525036]\n",
            "-------------------------------------------------------------------\n",
            "Average Macro Accuracy : 55.34 ± 0.77%\n",
            "Average Macro Precision: 51.39 ± 1.38%\n",
            "Average Macro Recall   : 51.78 ± 1.21%\n",
            "Average Macro F1 score : 51.43 ± 1.20%\n"
          ],
          "name": "stdout"
        }
      ]
    },
    {
      "cell_type": "code",
      "metadata": {
        "id": "eNGpOEC3BJyr",
        "colab": {
          "base_uri": "https://localhost:8080/"
        },
        "outputId": "8a200d5a-7b30-4919-c6ae-1b1115c51009"
      },
      "source": [
        "cross_validate(5, nopunct['text'], nopunct['stars'], pipeline)"
      ],
      "execution_count": 148,
      "outputs": [
        {
          "output_type": "stream",
          "text": [
            "Confusion Matrix: \n",
            " [[ 76  46   9   9   9]\n",
            " [ 42  64  53  14  12]\n",
            " [ 14  30 124 100  25]\n",
            " [ 12  20  68 371 234]\n",
            " [  8  11  18 165 466]]\n",
            "\n",
            "Accuracy:  0.5505\n",
            "Per Class Metrics:\n",
            "                1           2          3         4          5\n",
            "Precision: [0.5        0.37426901 0.45588235 0.5629742  0.62466488]\n",
            "Recall:    [0.51006711 0.34594595 0.42320819 0.52624113 0.69760479]\n",
            "F1 Score:  [0.50498339 0.35955056 0.43893805 0.54398827 0.65912306]\n",
            "-------------------------------------------------------------------\n",
            "Confusion Matrix: \n",
            " [[ 86  36  11   8   9]\n",
            " [ 40  72  47  21   5]\n",
            " [ 15  40 109 105  23]\n",
            " [  8  19  70 384 224]\n",
            " [ 13   2  24 183 446]]\n",
            "\n",
            "Accuracy:  0.5485\n",
            "Per Class Metrics:\n",
            "                1           2          3         4          5\n",
            "Precision: [0.5308642  0.4260355  0.41762452 0.54778887 0.63083451]\n",
            "Recall:    [0.57333333 0.38918919 0.37328767 0.54468085 0.66766467]\n",
            "F1 Score:  [0.55128205 0.40677966 0.39421338 0.54623044 0.64872727]\n",
            "-------------------------------------------------------------------\n",
            "Confusion Matrix: \n",
            " [[ 99  19  12   5  15]\n",
            " [ 39  72  45  20   9]\n",
            " [ 10  28 115 107  32]\n",
            " [ 13  21  93 367 212]\n",
            " [ 16  10  24 163 454]]\n",
            "\n",
            "Accuracy:  0.5535\n",
            "Per Class Metrics:\n",
            "                1           2          3         4          5\n",
            "Precision: [0.55932203 0.48       0.39792388 0.55438066 0.62880886]\n",
            "Recall:    [0.66       0.38918919 0.39383562 0.51983003 0.68065967]\n",
            "F1 Score:  [0.60550459 0.42985075 0.39586919 0.53654971 0.6537077 ]\n",
            "-------------------------------------------------------------------\n",
            "Confusion Matrix: \n",
            " [[ 87  46   6   5   6]\n",
            " [ 34  81  43  18  10]\n",
            " [ 20  64  95  90  23]\n",
            " [ 12  32  96 371 194]\n",
            " [ 13  19  28 158 449]]\n",
            "\n",
            "Accuracy:  0.5415\n",
            "Per Class Metrics:\n",
            "                1           2          3         4          5\n",
            "Precision: [0.52409639 0.33471074 0.35447761 0.57788162 0.65835777]\n",
            "Recall:    [0.58       0.43548387 0.32534247 0.52624113 0.67316342]\n",
            "F1 Score:  [0.55063291 0.37850467 0.33928571 0.55085375 0.66567828]\n",
            "-------------------------------------------------------------------\n",
            "Confusion Matrix: \n",
            " [[ 88  35   4   7  16]\n",
            " [ 35  65  59  21   6]\n",
            " [ 10  38 123 100  21]\n",
            " [  9  20  89 377 210]\n",
            " [  5   5  13 169 475]]\n",
            "\n",
            "Accuracy:  0.564\n",
            "Per Class Metrics:\n",
            "                1           2          3         4          5\n",
            "Precision: [0.59863946 0.39877301 0.42708333 0.55934718 0.65247253]\n",
            "Recall:    [0.58666667 0.34946237 0.42123288 0.53475177 0.71214393]\n",
            "F1 Score:  [0.59259259 0.37249284 0.42413793 0.54677302 0.68100358]\n",
            "-------------------------------------------------------------------\n",
            "Average Macro Accuracy : 55.16 ± 0.74%\n",
            "Average Macro Precision: 51.11 ± 1.37%\n",
            "Average Macro Recall   : 51.36 ± 1.00%\n",
            "Average Macro F1 score : 51.11 ± 1.12%\n"
          ],
          "name": "stdout"
        }
      ]
    },
    {
      "cell_type": "code",
      "metadata": {
        "colab": {
          "base_uri": "https://localhost:8080/"
        },
        "id": "3iePWOHTEcR8",
        "outputId": "3c36cf7b-140a-4510-e434-0214642f3bda"
      },
      "source": [
        ""
      ],
      "execution_count": 181,
      "outputs": [
        {
          "output_type": "stream",
          "text": [
            "Confusion Matrix: \n",
            " [[ 81  41  11   7   9]\n",
            " [ 41  67  50  14  13]\n",
            " [ 16  33 125  93  26]\n",
            " [ 14  21  71 373 226]\n",
            " [  8   8  15 173 464]]\n",
            "\n",
            "Accuracy:  0.555\n",
            "Per Class Metrics:\n",
            "                1           2          3         4          5\n",
            "Precision: [0.50625    0.39411765 0.45955882 0.56515152 0.62872629]\n",
            "Recall:    [0.54362416 0.36216216 0.42662116 0.52907801 0.69461078]\n",
            "F1 Score:  [0.52427184 0.37746479 0.44247788 0.54652015 0.66002845]\n",
            "-------------------------------------------------------------------\n",
            "Confusion Matrix: \n",
            " [[ 91  33  10   8   8]\n",
            " [ 40  73  45  19   8]\n",
            " [ 14  35 109 109  25]\n",
            " [ 10  20  58 402 215]\n",
            " [ 11   3  23 176 455]]\n",
            "\n",
            "Accuracy:  0.565\n",
            "Per Class Metrics:\n",
            "                1           2          3         4          5\n",
            "Precision: [0.54819277 0.44512195 0.44489796 0.56302521 0.63994374]\n",
            "Recall:    [0.60666667 0.39459459 0.37328767 0.57021277 0.68113772]\n",
            "F1 Score:  [0.57594937 0.41833811 0.40595903 0.56659619 0.65989848]\n",
            "-------------------------------------------------------------------\n",
            "Confusion Matrix: \n",
            " [[101  19  13   5  12]\n",
            " [ 45  66  51  16   7]\n",
            " [ 11  33 122  94  32]\n",
            " [ 23  26 101 348 208]\n",
            " [ 16   9  26 167 449]]\n",
            "\n",
            "Accuracy:  0.543\n",
            "Per Class Metrics:\n",
            "                1           2          3         4          5\n",
            "Precision: [0.51530612 0.43137255 0.38977636 0.55238095 0.63418079]\n",
            "Recall:    [0.67333333 0.35675676 0.41780822 0.49291785 0.67316342]\n",
            "F1 Score:  [0.58381503 0.39053254 0.40330579 0.52095808 0.65309091]\n",
            "-------------------------------------------------------------------\n",
            "Confusion Matrix: \n",
            " [[ 90  36  10   6   8]\n",
            " [ 33  69  53  21  10]\n",
            " [ 18  46 119  87  22]\n",
            " [ 14  23 111 358 199]\n",
            " [ 15  15  36 160 441]]\n",
            "\n",
            "Accuracy:  0.5385\n",
            "Per Class Metrics:\n",
            "                1           2          3         4          5\n",
            "Precision: [0.52941176 0.36507937 0.36170213 0.5664557  0.64852941]\n",
            "Recall:    [0.6        0.37096774 0.40753425 0.50780142 0.66116942]\n",
            "F1 Score:  [0.5625     0.368      0.38325282 0.5355273  0.65478842]\n",
            "-------------------------------------------------------------------\n",
            "Confusion Matrix: \n",
            " [[ 90  35   4   8  13]\n",
            " [ 34  66  56  20  10]\n",
            " [ 11  40 121 100  20]\n",
            " [  9  22  76 375 223]\n",
            " [  6   5  16 163 477]]\n",
            "\n",
            "Accuracy:  0.5645\n",
            "Per Class Metrics:\n",
            "                1           2          3         4          5\n",
            "Precision: [0.6        0.39285714 0.44322344 0.56306306 0.64199192]\n",
            "Recall:    [0.6        0.35483871 0.41438356 0.53191489 0.71514243]\n",
            "F1 Score:  [0.6        0.37288136 0.42831858 0.54704595 0.67659574]\n",
            "-------------------------------------------------------------------\n",
            "Average Macro Accuracy : 55.32 ± 1.09%\n",
            "Average Macro Precision: 51.32 ± 1.34%\n",
            "Average Macro Recall   : 51.84 ± 0.66%\n",
            "Average Macro F1 score : 51.43 ± 0.95%\n"
          ],
          "name": "stdout"
        }
      ]
    },
    {
      "cell_type": "code",
      "metadata": {
        "id": "BzynKgVtEf4r",
        "colab": {
          "base_uri": "https://localhost:8080/"
        },
        "outputId": "36a86138-2eed-49bf-c14b-c93a28b0f0b9"
      },
      "source": [
        "cross_validate(5, trimmed['text'], trimmed['stars'], pipeline)"
      ],
      "execution_count": 150,
      "outputs": [
        {
          "output_type": "stream",
          "text": [
            "Confusion Matrix: \n",
            " [[ 78  43  10   9   9]\n",
            " [ 44  60  54  15  12]\n",
            " [ 14  31 125 101  22]\n",
            " [ 13  20  69 377 226]\n",
            " [  7  11  18 177 455]]\n",
            "\n",
            "Accuracy:  0.5475\n",
            "Per Class Metrics:\n",
            "                1           2          3         4          5\n",
            "Precision: [0.5        0.36363636 0.45289855 0.55522828 0.62845304]\n",
            "Recall:    [0.52348993 0.32432432 0.42662116 0.53475177 0.68113772]\n",
            "F1 Score:  [0.51147541 0.34285714 0.43936731 0.54479769 0.65373563]\n",
            "-------------------------------------------------------------------\n",
            "Confusion Matrix: \n",
            " [[ 89  33  11   8   9]\n",
            " [ 43  64  50  23   5]\n",
            " [ 16  36 109 108  23]\n",
            " [  8  15  69 394 219]\n",
            " [ 12   3  24 187 442]]\n",
            "\n",
            "Accuracy:  0.549\n",
            "Per Class Metrics:\n",
            "                1           2          3         4          5\n",
            "Precision: [0.5297619  0.42384106 0.41444867 0.54722222 0.63323782]\n",
            "Recall:    [0.59333333 0.34594595 0.37328767 0.55886525 0.66167665]\n",
            "F1 Score:  [0.55974843 0.38095238 0.39279279 0.55298246 0.64714495]\n",
            "-------------------------------------------------------------------\n",
            "Confusion Matrix: \n",
            " [[ 97  22  11   5  15]\n",
            " [ 38  72  46  20   9]\n",
            " [ 11  29 113 107  32]\n",
            " [ 14  23  93 369 207]\n",
            " [ 16  10  25 160 456]]\n",
            "\n",
            "Accuracy:  0.5535\n",
            "Per Class Metrics:\n",
            "                1           2          3         4          5\n",
            "Precision: [0.55113636 0.46153846 0.39236111 0.55824508 0.63421419]\n",
            "Recall:    [0.64666667 0.38918919 0.3869863  0.52266289 0.68365817]\n",
            "F1 Score:  [0.59509202 0.42228739 0.38965517 0.53986832 0.65800866]\n",
            "-------------------------------------------------------------------\n",
            "Confusion Matrix: \n",
            " [[ 87  46   6   5   6]\n",
            " [ 33  79  45  19  10]\n",
            " [ 18  63  94  94  23]\n",
            " [ 12  33  93 372 195]\n",
            " [ 12  20  29 156 450]]\n",
            "\n",
            "Accuracy:  0.541\n",
            "Per Class Metrics:\n",
            "                1           2          3         4          5\n",
            "Precision: [0.53703704 0.32780083 0.35205993 0.57585139 0.65789474]\n",
            "Recall:    [0.58       0.42473118 0.32191781 0.52765957 0.67466267]\n",
            "F1 Score:  [0.55769231 0.37002342 0.33631485 0.55070318 0.66617321]\n",
            "-------------------------------------------------------------------\n",
            "Confusion Matrix: \n",
            " [[ 93  30   5   7  15]\n",
            " [ 37  63  57  22   7]\n",
            " [ 14  36 118  99  25]\n",
            " [ 10  20  86 377 212]\n",
            " [  6   4  13 168 476]]\n",
            "\n",
            "Accuracy:  0.5635\n",
            "Per Class Metrics:\n",
            "                1           2          3         4          5\n",
            "Precision: [0.58125    0.41176471 0.42293907 0.56017831 0.64761905]\n",
            "Recall:    [0.62       0.33870968 0.40410959 0.53475177 0.71364318]\n",
            "F1 Score:  [0.6        0.37168142 0.41330998 0.54716981 0.67902996]\n",
            "-------------------------------------------------------------------\n",
            "Average Macro Accuracy : 55.09 ± 0.75%\n",
            "Average Macro Precision: 50.88 ± 1.26%\n",
            "Average Macro Recall   : 51.17 ± 1.06%\n",
            "Average Macro F1 score : 50.89 ± 1.10%\n"
          ],
          "name": "stdout"
        }
      ]
    },
    {
      "cell_type": "code",
      "metadata": {
        "id": "LABaOiifEsry",
        "colab": {
          "base_uri": "https://localhost:8080/"
        },
        "outputId": "51d593f6-6989-477c-c053-68eb23fd553d"
      },
      "source": [
        "cross_validate(5, lemmatized['text'], lemmatized['stars'], pipeline)"
      ],
      "execution_count": 151,
      "outputs": [
        {
          "output_type": "stream",
          "text": [
            "Confusion Matrix: \n",
            " [[ 80  36  14   8  11]\n",
            " [ 41  58  61  14  11]\n",
            " [ 17  26 130  98  22]\n",
            " [ 11  13  81 378 222]\n",
            " [ 12  11  18 173 454]]\n",
            "\n",
            "Accuracy:  0.55\n",
            "Per Class Metrics:\n",
            "                1           2          3         4          5\n",
            "Precision: [0.49689441 0.40277778 0.42763158 0.5633383  0.63055556]\n",
            "Recall:    [0.53691275 0.31351351 0.44368601 0.53617021 0.67964072]\n",
            "F1 Score:  [0.51612903 0.35258359 0.43551089 0.5494186  0.65417867]\n",
            "-------------------------------------------------------------------\n",
            "Confusion Matrix: \n",
            " [[ 88  37  10   6   9]\n",
            " [ 43  69  55  14   4]\n",
            " [ 13  32 124  91  32]\n",
            " [ 10  21  82 350 242]\n",
            " [ 13   2  28 163 462]]\n",
            "\n",
            "Accuracy:  0.5465\n",
            "Per Class Metrics:\n",
            "                1           2          3         4          5\n",
            "Precision: [0.52694611 0.42857143 0.41471572 0.56089744 0.61682243]\n",
            "Recall:    [0.58666667 0.37297297 0.42465753 0.4964539  0.69161677]\n",
            "F1 Score:  [0.55520505 0.39884393 0.41962775 0.52671181 0.65208186]\n",
            "-------------------------------------------------------------------\n",
            "Confusion Matrix: \n",
            " [[ 98  20  13   4  15]\n",
            " [ 40  67  47  23   8]\n",
            " [ 10  24 116 105  37]\n",
            " [ 18  20  97 355 216]\n",
            " [ 18   8  27 167 447]]\n",
            "\n",
            "Accuracy:  0.5415\n",
            "Per Class Metrics:\n",
            "                1           2          3         4          5\n",
            "Precision: [0.5326087  0.48201439 0.38666667 0.54281346 0.61825726]\n",
            "Recall:    [0.65333333 0.36216216 0.39726027 0.50283286 0.67016492]\n",
            "F1 Score:  [0.58682635 0.41358025 0.39189189 0.52205882 0.64316547]\n",
            "-------------------------------------------------------------------\n",
            "Confusion Matrix: \n",
            " [[ 81  44   9   7   9]\n",
            " [ 35  80  43  19   9]\n",
            " [ 19  56 103  93  21]\n",
            " [ 11  30  97 394 173]\n",
            " [  8  21  29 178 431]]\n",
            "\n",
            "Accuracy:  0.5445\n",
            "Per Class Metrics:\n",
            "                1           2          3         4          5\n",
            "Precision: [0.52597403 0.34632035 0.36654804 0.57018813 0.67029549]\n",
            "Recall:    [0.54       0.43010753 0.35273973 0.55886525 0.64617691]\n",
            "F1 Score:  [0.53289474 0.38369305 0.35951134 0.56446991 0.65801527]\n",
            "-------------------------------------------------------------------\n",
            "Confusion Matrix: \n",
            " [[ 91  29   7   6  17]\n",
            " [ 35  61  60  20  10]\n",
            " [ 14  33 121 101  23]\n",
            " [ 12  19  88 376 210]\n",
            " [  7   5  14 160 481]]\n",
            "\n",
            "Accuracy:  0.565\n",
            "Per Class Metrics:\n",
            "                1           2          3         4          5\n",
            "Precision: [0.57232704 0.41496599 0.41724138 0.56711916 0.64912281]\n",
            "Recall:    [0.60666667 0.32795699 0.41438356 0.53333333 0.72113943]\n",
            "F1 Score:  [0.58899676 0.36636637 0.41580756 0.5497076  0.68323864]\n",
            "-------------------------------------------------------------------\n",
            "Average Macro Accuracy : 54.95 ± 0.82%\n",
            "Average Macro Precision: 50.93 ± 0.93%\n",
            "Average Macro Recall   : 51.20 ± 0.71%\n",
            "Average Macro F1 score : 50.88 ± 0.76%\n"
          ],
          "name": "stdout"
        }
      ]
    },
    {
      "cell_type": "code",
      "metadata": {
        "id": "UL8-qp3ag3wt",
        "colab": {
          "base_uri": "https://localhost:8080/"
        },
        "outputId": "a901b82e-b949-4768-c9c2-617e56014bbf"
      },
      "source": [
        "cross_validate(5, lemmatizedANDnostopwords['text'], lemmatizedANDnostopwords['stars'], pipeline)"
      ],
      "execution_count": 125,
      "outputs": [
        {
          "output_type": "stream",
          "text": [
            "Confusion Matrix: \n",
            " [[ 81  43  13   3   9]\n",
            " [ 41  76  45  12  11]\n",
            " [ 13  34 124  95  27]\n",
            " [ 14  17  87 365 222]\n",
            " [ 12  11  20 171 454]]\n",
            "\n",
            "Accuracy:  0.55\n",
            "Per Class Metrics:\n",
            "                1           2          3         4          5\n",
            "Precision: [0.50310559 0.4198895  0.42906574 0.56501548 0.62793914]\n",
            "Recall:    [0.54362416 0.41081081 0.42320819 0.5177305  0.67964072]\n",
            "F1 Score:  [0.52258065 0.41530055 0.42611684 0.54034049 0.65276779]\n",
            "-------------------------------------------------------------------\n",
            "Confusion Matrix: \n",
            " [[ 90  31  12   7  10]\n",
            " [ 34  69  54  21   7]\n",
            " [ 19  46 114  93  20]\n",
            " [  9  21  73 390 212]\n",
            " [ 11   2  27 178 450]]\n",
            "\n",
            "Accuracy:  0.5565\n",
            "Per Class Metrics:\n",
            "                1           2          3         4          5\n",
            "Precision: [0.55214724 0.40828402 0.40714286 0.56603774 0.64377682]\n",
            "Recall:    [0.6        0.37297297 0.39041096 0.55319149 0.67365269]\n",
            "F1 Score:  [0.57507987 0.38983051 0.3986014  0.55954089 0.65837601]\n",
            "-------------------------------------------------------------------\n",
            "Confusion Matrix: \n",
            " [[ 98  17  16   5  14]\n",
            " [ 43  60  51  23   8]\n",
            " [ 16  25 123 104  24]\n",
            " [ 16  24  90 363 213]\n",
            " [ 18   5  22 173 449]]\n",
            "\n",
            "Accuracy:  0.5465\n",
            "Per Class Metrics:\n",
            "                1           2          3         4          5\n",
            "Precision: [0.51308901 0.45801527 0.40728477 0.54341317 0.63418079]\n",
            "Recall:    [0.65333333 0.32432432 0.42123288 0.51416431 0.67316342]\n",
            "F1 Score:  [0.57478006 0.37974684 0.41414141 0.52838428 0.65309091]\n",
            "-------------------------------------------------------------------\n",
            "Confusion Matrix: \n",
            " [[ 95  28  10   7  10]\n",
            " [ 33  59  59  20  15]\n",
            " [ 20  25 151  71  25]\n",
            " [ 11  19  98 369 208]\n",
            " [ 12  13  34 163 445]]\n",
            "\n",
            "Accuracy:  0.5595\n",
            "Per Class Metrics:\n",
            "                1           2          3         4          5\n",
            "Precision: [0.55555556 0.40972222 0.42897727 0.58571429 0.63300142]\n",
            "Recall:    [0.63333333 0.3172043  0.51712329 0.52340426 0.66716642]\n",
            "F1 Score:  [0.59190031 0.35757576 0.4689441  0.55280899 0.64963504]\n",
            "-------------------------------------------------------------------\n",
            "Confusion Matrix: \n",
            " [[ 86  36  10   4  14]\n",
            " [ 40  63  55  19   9]\n",
            " [ 12  40 122  99  19]\n",
            " [ 17  15  89 364 220]\n",
            " [ 11   4  15 158 479]]\n",
            "\n",
            "Accuracy:  0.557\n",
            "Per Class Metrics:\n",
            "                1           2          3         4          5\n",
            "Precision: [0.51807229 0.39873418 0.41924399 0.56521739 0.64642375]\n",
            "Recall:    [0.57333333 0.33870968 0.41780822 0.51631206 0.71814093]\n",
            "F1 Score:  [0.5443038  0.36627907 0.41852487 0.53965901 0.68039773]\n",
            "-------------------------------------------------------------------\n",
            "Average Macro Accuracy : 55.39 ± 0.49%\n",
            "Average Macro Precision: 51.36 ± 0.51%\n",
            "Average Macro Recall   : 51.90 ± 0.66%\n",
            "Average Macro F1 score : 51.43 ± 0.54%\n"
          ],
          "name": "stdout"
        }
      ]
    },
    {
      "cell_type": "code",
      "metadata": {
        "id": "M_9gmUNrjBVM"
      },
      "source": [
        "cross_validate(5, nopunctANDnostopwords['text'], nopunctANDnostopwords['stars'], pipeline)"
      ],
      "execution_count": null,
      "outputs": []
    },
    {
      "cell_type": "code",
      "metadata": {
        "id": "TFV3jqZnjvu0"
      },
      "source": [
        "cross_validate(5, trimmedANDnostopwords['text'], trimmedANDnostopwords['stars'], pipeline)"
      ],
      "execution_count": null,
      "outputs": []
    },
    {
      "cell_type": "code",
      "metadata": {
        "id": "tc-lNyONiIGi"
      },
      "source": [
        "cross_validate(5, all['text'], all['stars'], pipeline)"
      ],
      "execution_count": null,
      "outputs": []
    },
    {
      "cell_type": "code",
      "metadata": {
        "id": "sZseCh0KWx2X",
        "colab": {
          "base_uri": "https://localhost:8080/"
        },
        "outputId": "f1018941-4357-43ea-d0a6-cd6fe261dfef"
      },
      "source": [
        "cross_validate(5, tagged['text'], tagged['stars'], pipeline)"
      ],
      "execution_count": 152,
      "outputs": [
        {
          "output_type": "stream",
          "text": [
            "Confusion Matrix: \n",
            " [[ 85  40   8   3  13]\n",
            " [ 53  63  42  13  14]\n",
            " [ 17  45 114  76  41]\n",
            " [ 17  37  64 333 254]\n",
            " [ 14  14  18 139 483]]\n",
            "\n",
            "Accuracy:  0.539\n",
            "Per Class Metrics:\n",
            "                1           2          3         4          5\n",
            "Precision: [0.45698925 0.31658291 0.46341463 0.59042553 0.6       ]\n",
            "Recall:    [0.5704698  0.34054054 0.3890785  0.47234043 0.72305389]\n",
            "F1 Score:  [0.50746269 0.328125   0.42300557 0.5248227  0.65580448]\n",
            "-------------------------------------------------------------------\n",
            "Confusion Matrix: \n",
            " [[ 87  40   9   3  11]\n",
            " [ 46  91  33  12   3]\n",
            " [ 19  64 103  85  21]\n",
            " [ 12  39  87 365 202]\n",
            " [ 19  15  36 186 412]]\n",
            "\n",
            "Accuracy:  0.529\n",
            "Per Class Metrics:\n",
            "                1           2          3         4          5\n",
            "Precision: [0.47540984 0.36546185 0.38432836 0.56067588 0.6348228 ]\n",
            "Recall:    [0.58       0.49189189 0.35273973 0.5177305  0.61676647]\n",
            "F1 Score:  [0.52252252 0.41935484 0.36785714 0.53834808 0.62566439]\n",
            "-------------------------------------------------------------------\n",
            "Confusion Matrix: \n",
            " [[ 97  21  10   5  17]\n",
            " [ 55  61  47  16   6]\n",
            " [ 14  42 115  93  28]\n",
            " [ 23  23  92 369 199]\n",
            " [ 19   9  34 176 429]]\n",
            "\n",
            "Accuracy:  0.5355\n",
            "Per Class Metrics:\n",
            "                1           2          3         4          5\n",
            "Precision: [0.46634615 0.39102564 0.38590604 0.5599393  0.63181149]\n",
            "Recall:    [0.64666667 0.32972973 0.39383562 0.52266289 0.64317841]\n",
            "F1 Score:  [0.54189944 0.35777126 0.38983051 0.54065934 0.63744428]\n",
            "-------------------------------------------------------------------\n",
            "Confusion Matrix: \n",
            " [[ 70  56  10   7   7]\n",
            " [ 33  89  40  13  11]\n",
            " [ 14  83  98  69  28]\n",
            " [ 13  54 110 304 224]\n",
            " [ 16  36  29 142 444]]\n",
            "\n",
            "Accuracy:  0.5025\n",
            "Per Class Metrics:\n",
            "                1           2          3         4          5\n",
            "Precision: [0.47945205 0.27987421 0.34146341 0.5682243  0.62184874]\n",
            "Recall:    [0.46666667 0.47849462 0.33561644 0.43120567 0.66566717]\n",
            "F1 Score:  [0.47297297 0.3531746  0.33851468 0.49032258 0.64301231]\n",
            "-------------------------------------------------------------------\n",
            "Confusion Matrix: \n",
            " [[ 82  42   6   3  17]\n",
            " [ 35  75  51  18   7]\n",
            " [ 12  47 121  83  29]\n",
            " [ 11  29 113 316 236]\n",
            " [ 13   8  19 136 491]]\n",
            "\n",
            "Accuracy:  0.5425\n",
            "Per Class Metrics:\n",
            "                1           2          3         4          5\n",
            "Precision: [0.53594771 0.37313433 0.39032258 0.56834532 0.62948718]\n",
            "Recall:    [0.54666667 0.40322581 0.41438356 0.44822695 0.73613193]\n",
            "F1 Score:  [0.54125413 0.3875969  0.40199336 0.50118953 0.67864547]\n",
            "-------------------------------------------------------------------\n",
            "Average Macro Accuracy : 52.97 ± 1.43%\n",
            "Average Macro Precision: 48.28 ± 1.35%\n",
            "Average Macro Recall   : 50.07 ± 1.33%\n",
            "Average Macro F1 score : 48.76 ± 1.47%\n"
          ],
          "name": "stdout"
        }
      ]
    },
    {
      "cell_type": "markdown",
      "metadata": {
        "id": "neunf7y1kjEs"
      },
      "source": [
        "# (OPTIONAL) Tuning Hyperparameters"
      ]
    },
    {
      "cell_type": "code",
      "metadata": {
        "id": "QoxLFnFomAyG"
      },
      "source": [
        "lsvc_params = {'penalty': ['l1','l2'],\n",
        "               'C':[1,10,20]}\n",
        "lsvc_grid = GridSearchCV(lsvc, param_grid=lsvc_params, cv = 5)\n",
        "X_train = tvec.fit_transform(nostopwords['text'])\n",
        "y_train = nostopwords['stars']\n",
        "lsvc_grid.fit(X_train,y_train)"
      ],
      "execution_count": null,
      "outputs": []
    },
    {
      "cell_type": "code",
      "metadata": {
        "id": "xavb51Zuzvhc"
      },
      "source": [
        "df = pd.DataFrame(lsvc_grid.cv_results_)\n",
        "df"
      ],
      "execution_count": null,
      "outputs": []
    },
    {
      "cell_type": "code",
      "metadata": {
        "id": "bEzGRkM4zfC7"
      },
      "source": [
        "lsvc_grid.best_score_"
      ],
      "execution_count": null,
      "outputs": []
    },
    {
      "cell_type": "code",
      "metadata": {
        "id": "ju_v4DhRzf0d"
      },
      "source": [
        "lsvc_grid.best_params_"
      ],
      "execution_count": null,
      "outputs": []
    },
    {
      "cell_type": "code",
      "metadata": {
        "id": "fg4xAGCWazEy"
      },
      "source": [
        "sgd_params = {'penalty': ['l1','l2', 'elasticnet'],\n",
        "                'loss' : ['hinge', 'modified_huber', 'log'],\n",
        "                'class_weight': ['balanced']\n",
        "              }\n",
        "sgd_grid = GridSearchCV(sgd, param_grid=sgd_params, cv = 5)\n",
        "tvec_undersample = make_pipeline(nm,tvec)\n",
        "X_train = tvec.fit_transform(nostopwords['text'])\n",
        "y_train = nostopwords['stars']\n",
        "sgd_grid.fit(X_train,y_train)"
      ],
      "execution_count": null,
      "outputs": []
    },
    {
      "cell_type": "code",
      "metadata": {
        "id": "ascFfHjCzpvb"
      },
      "source": [
        "df = pd.DataFrame(sgd_grid.cv_results_)\n",
        "df"
      ],
      "execution_count": null,
      "outputs": []
    },
    {
      "cell_type": "code",
      "metadata": {
        "id": "XPCefdRlzsuB"
      },
      "source": [
        "sgd_grid.best_score_"
      ],
      "execution_count": null,
      "outputs": []
    },
    {
      "cell_type": "code",
      "metadata": {
        "id": "hT9vWX3Bzta2"
      },
      "source": [
        "sgd_grid.best_params_"
      ],
      "execution_count": null,
      "outputs": []
    },
    {
      "cell_type": "code",
      "metadata": {
        "id": "pbRqGTGNzEWa"
      },
      "source": [
        "lr_params = {'penalty': ['l1','l2'],\n",
        "            'solver':['liblinear'],\n",
        "          'C': np.logspace(-10,10,21)}\n",
        "lr_grid = GridSearchCV(lr, param_grid=lr_params, cv = 5)\n",
        "X_train = cvec.fit_transform(nostopwords['text'])\n",
        "y_train = nostopwords['stars']\n",
        "lr_grid.fit(X_train,y_train)"
      ],
      "execution_count": null,
      "outputs": []
    },
    {
      "cell_type": "code",
      "metadata": {
        "id": "DA0s8_rvzzAE"
      },
      "source": [
        "df = pd.DataFrame(lr_grid.cv_results_)\n",
        "df"
      ],
      "execution_count": null,
      "outputs": []
    },
    {
      "cell_type": "code",
      "metadata": {
        "id": "XDnFLu3RtbTc"
      },
      "source": [
        "lr_grid.best_score_"
      ],
      "execution_count": null,
      "outputs": []
    },
    {
      "cell_type": "code",
      "metadata": {
        "id": "c5vQe2yPzb2Q"
      },
      "source": [
        "lr_grid.best_params_"
      ],
      "execution_count": null,
      "outputs": []
    },
    {
      "cell_type": "code",
      "metadata": {
        "id": "-BmUcoj3F5XR"
      },
      "source": [
        "svc_params = {'kernel' : ['linear', 'rbf'],\n",
        "          'C': [0.1]}\n",
        "svc_grid = GridSearchCV(svc, param_grid=svc_params, cv = 5)\n",
        "X_train = tvec.fit_transform(nostopwords['text'])\n",
        "y_train = nostopwords['stars']\n",
        "svc_grid.fit(X_train,y_train)"
      ],
      "execution_count": null,
      "outputs": []
    },
    {
      "cell_type": "code",
      "metadata": {
        "id": "6VTGsq37z0kw"
      },
      "source": [
        "df = pd.DataFrame(svc_grid.cv_results_)\n",
        "df"
      ],
      "execution_count": null,
      "outputs": []
    },
    {
      "cell_type": "code",
      "metadata": {
        "id": "zFwYE1YnF--j"
      },
      "source": [
        "svc_grid.best_score_"
      ],
      "execution_count": null,
      "outputs": []
    },
    {
      "cell_type": "code",
      "metadata": {
        "id": "qCC0-j9QGrXH"
      },
      "source": [
        "svc_grid.best_params_"
      ],
      "execution_count": null,
      "outputs": []
    }
  ]
}